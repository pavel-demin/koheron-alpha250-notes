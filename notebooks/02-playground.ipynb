{
 "cells": [
  {
   "attachments": {},
   "cell_type": "markdown",
   "metadata": {},
   "source": [
    "### Playground\n",
    "\n",
    "This notebook shows how to communicate with configuration registers, status registers and AXI4-Stream interfaces inside the FPGA using the [pyhubio](https://github.com/pavel-demin/pyhubio) library."
   ]
  },
  {
   "attachments": {},
   "cell_type": "markdown",
   "metadata": {},
   "source": [
    "Import the required libraries and instantiate `PyhubTCP`."
   ]
  },
  {
   "cell_type": "code",
   "execution_count": null,
   "metadata": {},
   "outputs": [],
   "source": [
    "from pyhubio import PyhubTCP\n",
    "import numpy as np\n",
    "import pylab as pl\n",
    "import time\n",
    "\n",
    "io = PyhubTCP(\"192.168.1.100\")"
   ]
  },
  {
   "attachments": {},
   "cell_type": "markdown",
   "metadata": {},
   "source": [
    "Start I/O and program the FPGA."
   ]
  },
  {
   "cell_type": "code",
   "execution_count": null,
   "metadata": {},
   "outputs": [],
   "source": [
    "io.start()\n",
    "io.program(\"playground.bit\")"
   ]
  },
  {
   "attachments": {},
   "cell_type": "markdown",
   "metadata": {},
   "source": [
    "The port number (hub address) of the configuration registers is 0.\n",
    "\n",
    "The 8-bit configuration register at address 4 is connected to the EXP_IOx_N pins on the ALPHA250 board.\n",
    "\n",
    "The following script turns all the EXP_IOx_N pins on and off several times."
   ]
  },
  {
   "cell_type": "code",
   "execution_count": null,
   "metadata": {},
   "outputs": [],
   "source": [
    "pins = np.zeros(1, np.uint32)\n",
    "\n",
    "for i in range(10):\n",
    "    pins[0] ^= 255\n",
    "    io.write(pins, port=0, addr=4)\n",
    "    time.sleep(0.5)"
   ]
  },
  {
   "attachments": {},
   "cell_type": "markdown",
   "metadata": {},
   "source": [
    "The port number (hub address) of the status registers is 1.\n",
    "\n",
    "The 32-bit configuration register at address 8 is connected to the 16-bit inputs of the DSP48 multiplier and the status register at address 4 is connected to the 32-bit output of the multiplier.\n",
    "\n",
    "The following script writes two 16-bit integer values to be multiplied in the configuration register at address 4 and reads the result of the multiplication from the status register at address 4."
   ]
  },
  {
   "cell_type": "code",
   "execution_count": null,
   "metadata": {},
   "outputs": [],
   "source": [
    "input = np.array([6, 7], np.int16)\n",
    "io.write(input, port=0, addr=8)\n",
    "\n",
    "output = np.zeros(1, np.int32)\n",
    "io.read(output, port=1, addr=4)\n",
    "\n",
    "print(output[0])"
   ]
  },
  {
   "attachments": {},
   "cell_type": "markdown",
   "metadata": {},
   "source": [
    "The second AXI4-Stream interface has port number (hub address) 3. Its slave side is connected to a counter that increments after each read transaction.\n",
    "\n",
    "The following script reads 10 numbers from the counter."
   ]
  },
  {
   "cell_type": "code",
   "execution_count": null,
   "metadata": {},
   "outputs": [],
   "source": [
    "output = np.zeros(10, np.int32)\n",
    "io.read(output, port=3, addr=0)\n",
    "\n",
    "print(output)"
   ]
  },
  {
   "attachments": {},
   "cell_type": "markdown",
   "metadata": {},
   "source": [
    "The first AXI4-Stream interface has port number (hub address) 2. Its master side is connected to an SPI interface via a FIFO buffer and can be used to control DAC outputs."
   ]
  },
  {
   "cell_type": "code",
   "execution_count": null,
   "metadata": {},
   "outputs": [],
   "source": [
    "dac = [0x7fff, 0x7fff]\n",
    "dac = [0, 0]\n",
    "io.write(np.uint32([0x110000 | dac[0], 0x140000 | dac[1], 0x250000]), port=2, addr=0)"
   ]
  },
  {
   "attachments": {},
   "cell_type": "markdown",
   "metadata": {},
   "source": [
    "The ADC interface is connected to the slave side of the first AXI4-Stream interface via an intermediate FIFO buffer.\n",
    "\n",
    "The following scripts shows how to read ADC samples."
   ]
  },
  {
   "attachments": {},
   "cell_type": "markdown",
   "metadata": {},
   "source": [
    "Initialize variables."
   ]
  },
  {
   "cell_type": "code",
   "execution_count": null,
   "metadata": {},
   "outputs": [],
   "source": [
    "size = 8192\n",
    "buffer = np.zeros(size * 4, np.int16)\n",
    "status = np.zeros(1, np.uint16)"
   ]
  },
  {
   "attachments": {},
   "cell_type": "markdown",
   "metadata": {},
   "source": [
    "Reset the FIFO buffer, wait until the FIFO buffer is full, then read ADC samples from the FIFO buffer."
   ]
  },
  {
   "cell_type": "code",
   "execution_count": null,
   "metadata": {},
   "outputs": [],
   "source": [
    "io.edge(0, 1, positive=True, addr=0)\n",
    "\n",
    "while status[0] < size:\n",
    "    time.sleep(0.1)\n",
    "    io.read(status, port=1, addr=0)\n",
    "\n",
    "io.read(buffer, port=2, addr=0)"
   ]
  },
  {
   "attachments": {},
   "cell_type": "markdown",
   "metadata": {},
   "source": [
    "Plot the ADC samples separately for two channels."
   ]
  },
  {
   "cell_type": "code",
   "execution_count": null,
   "metadata": {},
   "outputs": [],
   "source": [
    "ch1 = buffer[0::4]\n",
    "ch2 = buffer[1::4]\n",
    "ch3 = buffer[2::4]\n",
    "ch4 = buffer[3::4]\n",
    "\n",
    "pl.figure(figsize=[8, 4], dpi=150, constrained_layout=True)\n",
    "\n",
    "pl.plot(ch1)\n",
    "pl.plot(ch2)\n",
    "pl.plot(ch3)\n",
    "pl.plot(ch4)\n",
    "\n",
    "pl.xlabel(\"sample number\")\n",
    "pl.ylabel(\"ADC units\")\n",
    "\n",
    "pl.ylim(-9000, 9000)\n",
    "pl.grid()\n",
    "\n",
    "pl.show()"
   ]
  },
  {
   "attachments": {},
   "cell_type": "markdown",
   "metadata": {},
   "source": [
    "Stop I/O."
   ]
  },
  {
   "cell_type": "code",
   "execution_count": null,
   "metadata": {},
   "outputs": [],
   "source": [
    "io.stop()"
   ]
  }
 ],
 "metadata": {
  "kernelspec": {
   "display_name": "Python 3 (ipykernel)",
   "language": "python",
   "name": "python3"
  },
  "language_info": {
   "codemirror_mode": {
    "name": "ipython",
    "version": 3
   },
   "file_extension": ".py",
   "mimetype": "text/x-python",
   "name": "python",
   "nbconvert_exporter": "python",
   "pygments_lexer": "ipython3"
  }
 },
 "nbformat": 4,
 "nbformat_minor": 4
}
