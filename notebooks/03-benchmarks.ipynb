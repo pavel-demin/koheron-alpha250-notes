{
 "cells": [
  {
   "attachments": {},
   "cell_type": "markdown",
   "metadata": {},
   "source": [
    "### Benchmarks\n",
    "\n",
    "This notebook contains two simple benchmarks for testing the transfer speed to and from the FPGA using the [pyhubio](https://github.com/pavel-demin/pyhubio) library."
   ]
  },
  {
   "attachments": {},
   "cell_type": "markdown",
   "metadata": {},
   "source": [
    "Import the required libraries and instantiate `PyhubTCP`."
   ]
  },
  {
   "cell_type": "code",
   "execution_count": null,
   "metadata": {},
   "outputs": [],
   "source": [
    "from pyhubio import PyhubTCP\n",
    "import numpy as np\n",
    "import time\n",
    "\n",
    "io = PyhubTCP(\"192.168.1.100\")"
   ]
  },
  {
   "attachments": {},
   "cell_type": "markdown",
   "metadata": {},
   "source": [
    "Start I/O and program the FPGA."
   ]
  },
  {
   "cell_type": "code",
   "execution_count": null,
   "metadata": {},
   "outputs": [],
   "source": [
    "io.start()\n",
    "io.program(\"playground.bit\")"
   ]
  },
  {
   "attachments": {},
   "cell_type": "markdown",
   "metadata": {},
   "source": [
    "The second AXI4-Stream interface has port number (hub address) 3. Its slave side is connected to a counter that increments after each read transaction.\n",
    "\n",
    "The following script reads 100MB of data from the counter, measures the time it takes, and then calculates the transfer speed."
   ]
  },
  {
   "cell_type": "code",
   "execution_count": null,
   "metadata": {},
   "outputs": [],
   "source": [
    "buffer = np.zeros(25 * 2**20, np.uint32)\n",
    "\n",
    "before = time.time()\n",
    "io.read(buffer, port=3, addr=0)\n",
    "after = time.time()\n",
    "\n",
    "duration = after - before\n",
    "speed = buffer.view(np.uint8).size / duration\n",
    "\n",
    "print(\"time, s:\", np.format_float_positional(duration, precision=1))\n",
    "print(\"speed, MB/s:\", np.format_float_positional(speed / 2**20, precision=1))"
   ]
  },
  {
   "attachments": {},
   "cell_type": "markdown",
   "metadata": {},
   "source": [
    "\n",
    "The following script writes 100MB of data to an unused port, measures the time it takes, and then calculates the transfer speed."
   ]
  },
  {
   "cell_type": "code",
   "execution_count": null,
   "metadata": {},
   "outputs": [],
   "source": [
    "buffer = np.zeros(25 * 2**20, np.uint32)\n",
    "\n",
    "before = time.time()\n",
    "io.write(buffer, port=7, addr=0)\n",
    "after = time.time()\n",
    "\n",
    "duration = after - before\n",
    "speed = buffer.view(np.uint8).size / duration\n",
    "\n",
    "print(\"time, s:\", np.format_float_positional(duration, precision=1))\n",
    "print(\"speed, MB/s:\", np.format_float_positional(speed / 2**20, precision=1))"
   ]
  },
  {
   "attachments": {},
   "cell_type": "markdown",
   "metadata": {},
   "source": [
    "Stop I/O."
   ]
  },
  {
   "cell_type": "code",
   "execution_count": null,
   "metadata": {},
   "outputs": [],
   "source": [
    "io.stop()"
   ]
  }
 ],
 "metadata": {
  "kernelspec": {
   "display_name": "Python 3 (ipykernel)",
   "language": "python",
   "name": "python3"
  },
  "language_info": {
   "codemirror_mode": {
    "name": "ipython",
    "version": 3
   },
   "file_extension": ".py",
   "mimetype": "text/x-python",
   "name": "python",
   "nbconvert_exporter": "python",
   "pygments_lexer": "ipython3"
  }
 },
 "nbformat": 4,
 "nbformat_minor": 4
}
