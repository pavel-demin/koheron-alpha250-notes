{
 "cells": [
  {
   "attachments": {},
   "cell_type": "markdown",
   "metadata": {},
   "source": [
    "### Scanner\n",
    "\n",
    "This notebook contains the code for the scanning system."
   ]
  },
  {
   "attachments": {},
   "cell_type": "markdown",
   "metadata": {},
   "source": [
    "Import the required libraries."
   ]
  },
  {
   "cell_type": "code",
   "execution_count": null,
   "metadata": {},
   "outputs": [],
   "source": [
    "import numpy as np\n",
    "import pylab as pl\n",
    "import socket\n",
    "import time"
   ]
  },
  {
   "attachments": {},
   "cell_type": "markdown",
   "metadata": {},
   "source": [
    "Connect to the TCP server running on the ALPHA250 board."
   ]
  },
  {
   "cell_type": "code",
   "execution_count": null,
   "metadata": {},
   "outputs": [],
   "source": [
    "s = socket.create_connection((\"192.168.1.100\", 1001))"
   ]
  },
  {
   "attachments": {},
   "cell_type": "markdown",
   "metadata": {},
   "source": [
    "Set the scanner to its home position."
   ]
  },
  {
   "cell_type": "code",
   "execution_count": null,
   "metadata": {},
   "outputs": [],
   "source": [
    "dac = [0x7fff, 0x7fff]\n",
    "\n",
    "s.send(np.uint64(8<<32 | dac[1] << 16 | dac[0]))"
   ]
  },
  {
   "attachments": {},
   "cell_type": "markdown",
   "metadata": {},
   "source": [
    "Move the scanner one small step."
   ]
  },
  {
   "cell_type": "code",
   "execution_count": null,
   "metadata": {},
   "outputs": [],
   "source": [
    "dac[0] += 100\n",
    "dac[1] += 100\n",
    "\n",
    "s.send(np.uint64(8<<32 | dac[1] << 16 | dac[0]))"
   ]
  },
  {
   "attachments": {},
   "cell_type": "markdown",
   "metadata": {},
   "source": [
    "Calculate scan coordinates."
   ]
  },
  {
   "cell_type": "code",
   "execution_count": null,
   "metadata": {},
   "outputs": [],
   "source": [
    "amplitude = 2000\n",
    "steps = 1000\n",
    "turns = 10\n",
    "\n",
    "l = np.pi * amplitude * turns\n",
    "dr = amplitude / turns\n",
    "dl = l / steps\n",
    "x = []\n",
    "y = []\n",
    "phi = 0\n",
    "while len(x) < steps:\n",
    "    r = phi * dr / (2 * np.pi)\n",
    "    x.append(int(np.floor(r * np.cos(phi) + 0.5)))\n",
    "    y.append(int(np.floor(r * np.sin(phi) + 0.5)))\n",
    "    phi += (np.sqrt(r * r + 2 * dr * dl) - r) / dr\n",
    "\n",
    "pl.plot(x, y, linestyle=\"\", marker=\".\", markersize=1)\n",
    "pl.grid()"
   ]
  },
  {
   "attachments": {},
   "cell_type": "markdown",
   "metadata": {},
   "source": [
    "Set all configuration parameters."
   ]
  },
  {
   "cell_type": "code",
   "execution_count": null,
   "metadata": {},
   "outputs": [],
   "source": [
    "scan_step = 50 # us\n",
    "sample_step = 5 # us\n",
    "f1 = 10000000 # Hz\n",
    "f2 = 10000000 # Hz\n",
    "f3 = 10000000 # Hz\n",
    "f4 = 10000000 # Hz\n",
    "\n",
    "s.send(np.uint64(0<<32 | int(250 * scan_step)))\n",
    "s.send(np.uint64(1<<32 | int(10 * sample_step)))\n",
    "s.send(np.uint64(2<<32 | f1))\n",
    "s.send(np.uint64(3<<32 | f2))\n",
    "s.send(np.uint64(4<<32 | f3))\n",
    "s.send(np.uint64(5<<32 | f4))\n",
    "\n",
    "s.send(np.uint64(6<<32))\n",
    "\n",
    "for c in zip(x, y):\n",
    "    s.send(np.uint64(7<<32 | (c[1] + 0x7fff) << 16 | (c[0] + 0x7fff)))"
   ]
  },
  {
   "attachments": {},
   "cell_type": "markdown",
   "metadata": {},
   "source": [
    "Scan."
   ]
  },
  {
   "cell_type": "code",
   "execution_count": null,
   "metadata": {},
   "outputs": [],
   "source": [
    "s.send(np.uint64(8<<32 | 0x7fff << 16 | 0x7fff))\n",
    "\n",
    "time.sleep(0.001)\n",
    "\n",
    "size = steps * scan_step // sample_step\n",
    "s.send(np.uint64(9<<32 | size))\n",
    "\n",
    "data = np.zeros(4 * size, np.complex64)\n",
    "view = data.view(np.uint8)\n",
    "offset = 0\n",
    "limit = view.size\n",
    "while offset < limit:\n",
    "    buffer = s.recv(65536)\n",
    "    buffer = np.frombuffer(buffer, np.uint8)\n",
    "    size = buffer.size\n",
    "    if size > limit - offset:\n",
    "        size = limit - offset\n",
    "    view[offset : offset + size] = buffer[:size]\n",
    "    offset += size"
   ]
  },
  {
   "attachments": {},
   "cell_type": "markdown",
   "metadata": {},
   "source": [
    "Plot."
   ]
  },
  {
   "cell_type": "code",
   "execution_count": null,
   "metadata": {},
   "outputs": [],
   "source": [
    "in1 = data[0::4]\n",
    "in2 = data[1::4]\n",
    "in3 = data[2::4]\n",
    "in4 = data[3::4]\n",
    "\n",
    "pl.plot(in1[10::10].real, in3[10::10].real, linestyle=\"\", marker=\".\", markersize=1)\n",
    "pl.grid()"
   ]
  },
  {
   "attachments": {},
   "cell_type": "markdown",
   "metadata": {},
   "source": [
    "Close connection."
   ]
  },
  {
   "cell_type": "code",
   "execution_count": null,
   "metadata": {},
   "outputs": [],
   "source": [
    "s.close()"
   ]
  }
 ],
 "metadata": {
  "kernelspec": {
   "display_name": "Python 3 (ipykernel)",
   "language": "python",
   "name": "python3"
  },
  "language_info": {
   "codemirror_mode": {
    "name": "ipython",
    "version": 3
   },
   "file_extension": ".py",
   "mimetype": "text/x-python",
   "name": "python",
   "nbconvert_exporter": "python",
   "pygments_lexer": "ipython3"
  }
 },
 "nbformat": 4,
 "nbformat_minor": 4
}
