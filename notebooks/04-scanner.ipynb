{
 "cells": [
  {
   "attachments": {},
   "cell_type": "markdown",
   "metadata": {},
   "source": [
    "### Scanner\n",
    "\n",
    "This notebook contains the code for the scanning system."
   ]
  },
  {
   "attachments": {},
   "cell_type": "markdown",
   "metadata": {},
   "source": [
    "Import the required libraries."
   ]
  },
  {
   "cell_type": "code",
   "execution_count": null,
   "metadata": {},
   "outputs": [],
   "source": [
    "import numpy as np\n",
    "import pylab as pl\n",
    "import socket\n",
    "import time"
   ]
  },
  {
   "attachments": {},
   "cell_type": "markdown",
   "metadata": {},
   "source": [
    "Connect to the TCP server running on the ALPHA250 board."
   ]
  },
  {
   "cell_type": "code",
   "execution_count": null,
   "metadata": {},
   "outputs": [],
   "source": [
    "s = socket.create_connection((\"192.168.1.100\", 1001))"
   ]
  },
  {
   "attachments": {},
   "cell_type": "markdown",
   "metadata": {},
   "source": [
    "Set the scanner to its home position."
   ]
  },
  {
   "cell_type": "code",
   "execution_count": null,
   "metadata": {},
   "outputs": [],
   "source": [
    "dac = [0x7FFF, 0x7FFF]\n",
    "\n",
    "s.send(np.uint64(11 << 32 | dac[1] << 16 | dac[0]))"
   ]
  },
  {
   "attachments": {},
   "cell_type": "markdown",
   "metadata": {},
   "source": [
    "Move the scanner one small step."
   ]
  },
  {
   "cell_type": "code",
   "execution_count": null,
   "metadata": {},
   "outputs": [],
   "source": [
    "dac[0] += 100\n",
    "dac[1] += 100\n",
    "\n",
    "s.send(np.uint64(11 << 32 | dac[1] << 16 | dac[0]))"
   ]
  },
  {
   "attachments": {},
   "cell_type": "markdown",
   "metadata": {},
   "source": [
    "Calculate scan coordinates."
   ]
  },
  {
   "cell_type": "code",
   "execution_count": null,
   "metadata": {},
   "outputs": [],
   "source": [
    "radius = 2000\n",
    "steps = 50000\n",
    "turns = 10\n",
    "\n",
    "l = np.pi * radius * turns\n",
    "dr = radius / turns\n",
    "dl = l / steps\n",
    "x = []\n",
    "y = []\n",
    "phi = 0\n",
    "while len(x) < steps:\n",
    "    r = phi * dr / (2 * np.pi)\n",
    "    x.append(int(np.floor(r * np.cos(phi) + 0.5)))\n",
    "    y.append(int(np.floor(r * np.sin(phi) + 0.5)))\n",
    "    phi += (np.sqrt(r * r + 2 * dr * dl) - r) / dr\n",
    "\n",
    "pl.plot(x, y, linestyle=\"\", marker=\".\", markersize=1)\n",
    "pl.grid()"
   ]
  },
  {
   "attachments": {},
   "cell_type": "markdown",
   "metadata": {},
   "source": [
    "Set all configuration parameters."
   ]
  },
  {
   "cell_type": "code",
   "execution_count": null,
   "metadata": {},
   "outputs": [],
   "source": [
    "scan_step = 10  # us\n",
    "sample_step = 100  # us\n",
    "\n",
    "f0 = 40000000  # Hz\n",
    "f1 = 10000000  # Hz\n",
    "f2 = 20000000  # Hz\n",
    "f3 = 30000000  # Hz\n",
    "f4 = 50000000  # Hz\n",
    "f5 = 20000000  # Hz\n",
    "f6 = 60000000  # Hz\n",
    "\n",
    "s.send(np.uint64(0 << 32 | int(250 * scan_step)))\n",
    "s.send(np.uint64(1 << 32 | int(sample_step)))\n",
    "s.send(np.uint64(2 << 32 | f0))\n",
    "s.send(np.uint64(3 << 32 | f1))\n",
    "s.send(np.uint64(4 << 32 | f2))\n",
    "s.send(np.uint64(5 << 32 | f3))\n",
    "s.send(np.uint64(6 << 32 | f4))\n",
    "s.send(np.uint64(7 << 32 | f5))\n",
    "s.send(np.uint64(8 << 32 | f6))\n",
    "\n",
    "s.send(np.uint64(9 << 32))\n",
    "\n",
    "for c in zip(x, y):\n",
    "    s.send(np.uint64(10 << 32 | (c[1] + 0x7FFF) << 16 | (c[0] + 0x7FFF)))"
   ]
  },
  {
   "attachments": {},
   "cell_type": "markdown",
   "metadata": {},
   "source": [
    "Scan."
   ]
  },
  {
   "cell_type": "code",
   "execution_count": null,
   "metadata": {},
   "outputs": [],
   "source": [
    "s.send(np.uint64(11 << 32 | 0x7FFF << 16 | 0x7FFF))\n",
    "\n",
    "time.sleep(0.001)\n",
    "\n",
    "size = steps * scan_step // sample_step\n",
    "s.send(np.uint64(12 << 32 | size))\n",
    "\n",
    "\n",
    "def read_data(data):\n",
    "    view = data.view(np.uint8)\n",
    "    offset = 0\n",
    "    limit = view.size\n",
    "    while offset < limit:\n",
    "        buffer = s.recv(limit - offset)\n",
    "        buffer = np.frombuffer(buffer, np.uint8)\n",
    "        size = buffer.size\n",
    "        view[offset : offset + size] = buffer\n",
    "        offset += size\n",
    "\n",
    "\n",
    "data0 = np.zeros(7 * size, np.complex64)\n",
    "data1 = np.zeros(7 * size, np.complex64)\n",
    "\n",
    "read_data(data0)\n",
    "read_data(data1)"
   ]
  },
  {
   "attachments": {},
   "cell_type": "markdown",
   "metadata": {},
   "source": [
    "Plot signal."
   ]
  },
  {
   "cell_type": "code",
   "execution_count": null,
   "metadata": {},
   "outputs": [],
   "source": [
    "in0 = data0[0::7] # photodiode/ADC0 mixed with LO0\n",
    "in1 = data0[1::7] # photodiode/ADC0 mixed with LO1\n",
    "in2 = data0[2::7] # photodiode/ADC0 mixed with LO2\n",
    "in3 = data0[3::7] # photodiode/ADC0 mixed with LO3\n",
    "in4 = data0[4::7] # photodiode/ADC0 mixed with LO4\n",
    "in5 = data0[5::7] # photodiode/ADC0 mixed with LO5\n",
    "in6 = data0[6::7] # photodiode/ADC0 mixed with LO6\n",
    "\n",
    "in7 = data1[0::7] # AOM/ADC1 mixed with LO0\n",
    "in8 = data1[1::7] # EOM1/ADC2 mixed with LO1\n",
    "in9 = data1[2::7] # EOM2/ADC3 mixed with LO2\n",
    "in10 = data1[3::7] # AOM/ADC1 mixed with EOM1/ADC2 mixed with LO3\n",
    "in11 = data1[4::7] # AOM/ADC1 mixed with EOM1/ADC2 mixed with LO4\n",
    "in12 = data1[5::7] # AOM/ADC1 mixed with EOM2/ADC3 mixed with LO5\n",
    "in13 = data1[6::7] # AOM/ADC1 mixed with EOM2/ADC3 mixed with LO6\n",
    "\n",
    "pl.plot(in0.real, in7.real, linestyle=\"\", marker=\".\", markersize=1)\n",
    "pl.grid()"
   ]
  },
  {
   "attachments": {},
   "cell_type": "markdown",
   "metadata": {},
   "source": [
    "Plot spectrum."
   ]
  },
  {
   "cell_type": "code",
   "execution_count": null,
   "metadata": {},
   "outputs": [],
   "source": [
    "samples = in0\n",
    "\n",
    "window = np.blackman(samples.size)\n",
    "\n",
    "fft = np.fft.fft(samples * window) / samples.size * 2\n",
    "fft = 20 * np.log10(np.abs(fft))\n",
    "pl.plot(np.fft.fftshift(fft))\n",
    "pl.grid()"
   ]
  },
  {
   "attachments": {},
   "cell_type": "markdown",
   "metadata": {},
   "source": [
    "Plot phase."
   ]
  },
  {
   "cell_type": "code",
   "execution_count": null,
   "metadata": {},
   "outputs": [],
   "source": [
    "phi0 = np.angle(in0, deg=True)\n",
    "phi0 = np.unwrap(phi0, period=180)\n",
    "\n",
    "phi7 = np.angle(in7, deg=True)\n",
    "phi7 = np.unwrap(phi7, period=180)\n",
    "\n",
    "pl.plot(phi0 - phi7)\n",
    "pl.ylim(-200, 200)\n",
    "pl.grid()"
   ]
  },
  {
   "attachments": {},
   "cell_type": "markdown",
   "metadata": {},
   "source": [
    "Close connection."
   ]
  },
  {
   "cell_type": "code",
   "execution_count": null,
   "metadata": {},
   "outputs": [],
   "source": [
    "s.close()"
   ]
  }
 ],
 "metadata": {
  "kernelspec": {
   "display_name": "Python 3 (ipykernel)",
   "language": "python",
   "name": "python3"
  },
  "language_info": {
   "codemirror_mode": {
    "name": "ipython",
    "version": 3
   },
   "file_extension": ".py",
   "mimetype": "text/x-python",
   "name": "python",
   "nbconvert_exporter": "python",
   "pygments_lexer": "ipython3"
  }
 },
 "nbformat": 4,
 "nbformat_minor": 4
}
